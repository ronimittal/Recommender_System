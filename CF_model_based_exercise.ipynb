{
 "cells": [
  {
   "cell_type": "markdown",
   "metadata": {},
   "source": [
    "## Collaborative Filtering\n",
    "#### Model Based Approach"
   ]
  },
  {
   "cell_type": "code",
   "execution_count": 2,
   "metadata": {
    "ExecuteTime": {
     "end_time": "2020-04-30T11:57:37.226021Z",
     "start_time": "2020-04-30T11:57:36.904092Z"
    }
   },
   "outputs": [],
   "source": [
    "import pandas as pd\n",
    "# import SVD from surprise\n",
    "from surprise import SVD\n",
    "\n",
    "# # import dataset from surprise\n",
    "from surprise import Dataset\n",
    "from surprise import Reader\n",
    "\n",
    "\n",
    "# import accuracy from surprise\n",
    "from surprise import accuracy\n",
    "\n",
    "# import train_test_split from surprise.model_selection\n",
    "from surprise.model_selection import train_test_split\n",
    "# import GridSearchCV from surprise.model_selection\n",
    "from surprise.model_selection import GridSearchCV\n",
    "# import cross_validate from surprise.model_selection\n",
    "from surprise.model_selection import cross_validate"
   ]
  },
  {
   "cell_type": "markdown",
   "metadata": {},
   "source": [
    "We will be working with the [same data](https://drive.google.com/file/d/1WvTmAfO09TCX7xp7uu06__ziic7JnrL5/view?usp=sharing) we used in the previous exercise."
   ]
  },
  {
   "cell_type": "code",
   "execution_count": 3,
   "metadata": {},
   "outputs": [],
   "source": [
    "book_ratings = pd.read_csv('BX-Book-Ratings.csv',sep=\";\", encoding=\"latin\")"
   ]
  },
  {
   "cell_type": "code",
   "execution_count": 5,
   "metadata": {},
   "outputs": [
    {
     "data": {
      "text/html": [
       "<div>\n",
       "<style scoped>\n",
       "    .dataframe tbody tr th:only-of-type {\n",
       "        vertical-align: middle;\n",
       "    }\n",
       "\n",
       "    .dataframe tbody tr th {\n",
       "        vertical-align: top;\n",
       "    }\n",
       "\n",
       "    .dataframe thead th {\n",
       "        text-align: right;\n",
       "    }\n",
       "</style>\n",
       "<table border=\"1\" class=\"dataframe\">\n",
       "  <thead>\n",
       "    <tr style=\"text-align: right;\">\n",
       "      <th></th>\n",
       "      <th>User-ID</th>\n",
       "      <th>ISBN</th>\n",
       "      <th>Book-Rating</th>\n",
       "    </tr>\n",
       "  </thead>\n",
       "  <tbody>\n",
       "    <tr>\n",
       "      <th>0</th>\n",
       "      <td>276725</td>\n",
       "      <td>034545104X</td>\n",
       "      <td>0</td>\n",
       "    </tr>\n",
       "    <tr>\n",
       "      <th>1</th>\n",
       "      <td>276726</td>\n",
       "      <td>0155061224</td>\n",
       "      <td>5</td>\n",
       "    </tr>\n",
       "    <tr>\n",
       "      <th>2</th>\n",
       "      <td>276727</td>\n",
       "      <td>0446520802</td>\n",
       "      <td>0</td>\n",
       "    </tr>\n",
       "    <tr>\n",
       "      <th>3</th>\n",
       "      <td>276729</td>\n",
       "      <td>052165615X</td>\n",
       "      <td>3</td>\n",
       "    </tr>\n",
       "    <tr>\n",
       "      <th>4</th>\n",
       "      <td>276729</td>\n",
       "      <td>0521795028</td>\n",
       "      <td>6</td>\n",
       "    </tr>\n",
       "  </tbody>\n",
       "</table>\n",
       "</div>"
      ],
      "text/plain": [
       "   User-ID        ISBN  Book-Rating\n",
       "0   276725  034545104X            0\n",
       "1   276726  0155061224            5\n",
       "2   276727  0446520802            0\n",
       "3   276729  052165615X            3\n",
       "4   276729  0521795028            6"
      ]
     },
     "execution_count": 5,
     "metadata": {},
     "output_type": "execute_result"
    }
   ],
   "source": [
    "book_ratings.head()"
   ]
  },
  {
   "cell_type": "markdown",
   "metadata": {},
   "source": [
    "* create surprise dataset from book_ratings"
   ]
  },
  {
   "cell_type": "code",
   "execution_count": 6,
   "metadata": {},
   "outputs": [],
   "source": [
    "reader = Reader(rating_scale=(0, 10))\n",
    "\n",
    "# Loads Pandas dataframe\n",
    "data = Dataset.load_from_df(book_ratings, reader)"
   ]
  },
  {
   "cell_type": "code",
   "execution_count": 8,
   "metadata": {},
   "outputs": [
    {
     "name": "stdout",
     "output_type": "stream",
     "text": [
      "<surprise.dataset.DatasetAutoFolds object at 0x7fbebc4bc190>\n"
     ]
    }
   ],
   "source": [
    "print(data)"
   ]
  },
  {
   "cell_type": "markdown",
   "metadata": {},
   "source": [
    "* split data to train and test set, use test size 15%"
   ]
  },
  {
   "cell_type": "code",
   "execution_count": 9,
   "metadata": {},
   "outputs": [],
   "source": [
    "train_set, test_set  = train_test_split(data,test_size=0.15) "
   ]
  },
  {
   "cell_type": "code",
   "execution_count": 10,
   "metadata": {},
   "outputs": [
    {
     "data": {
      "text/plain": [
       "<surprise.trainset.Trainset at 0x7fbef35486a0>"
      ]
     },
     "execution_count": 10,
     "metadata": {},
     "output_type": "execute_result"
    }
   ],
   "source": [
    "train_set"
   ]
  },
  {
   "cell_type": "markdown",
   "metadata": {},
   "source": [
    "* Use SVD (with default settings) to create recommendations for each user\n",
    "    - print default model's rmse that was computed on the test set (using object accuracy we imported in the beginning)"
   ]
  },
  {
   "cell_type": "code",
   "execution_count": 11,
   "metadata": {},
   "outputs": [],
   "source": [
    "algo = SVD()"
   ]
  },
  {
   "cell_type": "code",
   "execution_count": 12,
   "metadata": {},
   "outputs": [
    {
     "data": {
      "text/plain": [
       "<surprise.prediction_algorithms.matrix_factorization.SVD at 0x7fbebc4bb550>"
      ]
     },
     "execution_count": 12,
     "metadata": {},
     "output_type": "execute_result"
    }
   ],
   "source": [
    "algo.fit(train_set)"
   ]
  },
  {
   "cell_type": "code",
   "execution_count": 13,
   "metadata": {},
   "outputs": [],
   "source": [
    "predictions = algo.test(test_set)"
   ]
  },
  {
   "cell_type": "code",
   "execution_count": 16,
   "metadata": {},
   "outputs": [
    {
     "name": "stderr",
     "output_type": "stream",
     "text": [
      "IOPub data rate exceeded.\n",
      "The notebook server will temporarily stop sending output\n",
      "to the client in order to avoid crashing it.\n",
      "To change this limit, set the config variable\n",
      "`--NotebookApp.iopub_data_rate_limit`.\n",
      "\n",
      "Current values:\n",
      "NotebookApp.iopub_data_rate_limit=1000000.0 (bytes/sec)\n",
      "NotebookApp.rate_limit_window=3.0 (secs)\n",
      "\n"
     ]
    }
   ],
   "source": [
    "print(predictions)"
   ]
  },
  {
   "cell_type": "code",
   "execution_count": 15,
   "metadata": {},
   "outputs": [
    {
     "name": "stdout",
     "output_type": "stream",
     "text": [
      "RMSE: 3.4983\n"
     ]
    },
    {
     "data": {
      "text/plain": [
       "3.4983233507908267"
      ]
     },
     "execution_count": 15,
     "metadata": {},
     "output_type": "execute_result"
    }
   ],
   "source": [
    "accuracy.rmse(predictions)"
   ]
  },
  {
   "cell_type": "markdown",
   "metadata": {},
   "source": [
    "* create parameters grid, use this params:\n",
    "* 'n_factors': [110, 120, 140, 160]\n",
    "* 'reg_all': [0.08, 0.1, 0.15]"
   ]
  },
  {
   "cell_type": "code",
   "execution_count": 18,
   "metadata": {},
   "outputs": [],
   "source": [
    "param_grid={'n_factors':[110, 120, 140, 160] ,'reg_all':[0.08,0.1,0.15]}"
   ]
  },
  {
   "cell_type": "markdown",
   "metadata": {},
   "source": [
    "* instantiate GridSearch with SVD as model, our pre-defined parameter grid and rmse and mae as evaluation metrics"
   ]
  },
  {
   "cell_type": "code",
   "execution_count": 20,
   "metadata": {},
   "outputs": [],
   "source": [
    "gs = GridSearchCV(SVD, param_grid,measures=['rmse','mae'])"
   ]
  },
  {
   "cell_type": "code",
   "execution_count": 25,
   "metadata": {},
   "outputs": [
    {
     "data": {
      "text/plain": [
       "<surprise.model_selection.search.GridSearchCV at 0x7fbebc5246d0>"
      ]
     },
     "execution_count": 25,
     "metadata": {},
     "output_type": "execute_result"
    }
   ],
   "source": [
    "gs"
   ]
  },
  {
   "cell_type": "markdown",
   "metadata": {
    "ExecuteTime": {
     "end_time": "2020-04-30T11:58:48.630386Z",
     "start_time": "2020-04-30T11:58:48.622574Z"
    }
   },
   "source": [
    "* fit GridSearch"
   ]
  },
  {
   "cell_type": "code",
   "execution_count": 21,
   "metadata": {},
   "outputs": [],
   "source": [
    "gs.fit(data)"
   ]
  },
  {
   "cell_type": "markdown",
   "metadata": {},
   "source": [
    "* print best RMSE score from training"
   ]
  },
  {
   "cell_type": "code",
   "execution_count": 22,
   "metadata": {},
   "outputs": [
    {
     "name": "stdout",
     "output_type": "stream",
     "text": [
      "3.4326043828848656\n"
     ]
    }
   ],
   "source": [
    "print(gs.best_score['rmse'])"
   ]
  },
  {
   "cell_type": "code",
   "execution_count": 23,
   "metadata": {},
   "outputs": [
    {
     "name": "stdout",
     "output_type": "stream",
     "text": [
      "{'n_factors': 160, 'reg_all': 0.15}\n"
     ]
    }
   ],
   "source": [
    "print(gs.best_params['rmse'])"
   ]
  },
  {
   "cell_type": "code",
   "execution_count": 24,
   "metadata": {
    "scrolled": true
   },
   "outputs": [
    {
     "name": "stdout",
     "output_type": "stream",
     "text": [
      "{'split0_test_rmse': array([3.45811105, 3.45252714, 3.44208241, 3.45634671, 3.45110468,\n",
      "       3.43777155, 3.45176574, 3.44597729, 3.43670559, 3.45205878,\n",
      "       3.44482007, 3.4335811 ]), 'split1_test_rmse': array([3.45761927, 3.44758986, 3.4402825 , 3.45304825, 3.44764012,\n",
      "       3.43788563, 3.44902994, 3.44460922, 3.43579749, 3.44328379,\n",
      "       3.44351064, 3.43289785]), 'split2_test_rmse': array([3.4552969 , 3.44902379, 3.43653714, 3.45493797, 3.44834668,\n",
      "       3.43573586, 3.44927752, 3.44202748, 3.43303298, 3.44363833,\n",
      "       3.43934838, 3.43064836]), 'split3_test_rmse': array([3.45997294, 3.45147938, 3.44131071, 3.45384359, 3.4485971 ,\n",
      "       3.43849842, 3.45229593, 3.4425595 , 3.4367084 , 3.44584358,\n",
      "       3.43937133, 3.43545157]), 'split4_test_rmse': array([3.45534543, 3.44668164, 3.43606881, 3.45122297, 3.44677084,\n",
      "       3.43394687, 3.44631909, 3.4417492 , 3.42956474, 3.44390176,\n",
      "       3.44078055, 3.43044303]), 'mean_test_rmse': array([3.45726912, 3.44946036, 3.43925631, 3.4538799 , 3.44849188,\n",
      "       3.43676767, 3.44973765, 3.44338454, 3.43436184, 3.44574525,\n",
      "       3.44156619, 3.43260438]), 'std_test_rmse': array([0.00177383, 0.00223124, 0.00248252, 0.00172956, 0.00145233,\n",
      "       0.00168965, 0.00214742, 0.00163822, 0.00275095, 0.00327923,\n",
      "       0.0022236 , 0.00187851]), 'rank_test_rmse': array([12,  9,  4, 11,  8,  3, 10,  6,  2,  7,  5,  1]), 'split0_test_mae': array([2.84006903, 2.8498974 , 2.87026034, 2.84279454, 2.85148366,\n",
      "       2.87023229, 2.84589864, 2.85380059, 2.87288131, 2.84939982,\n",
      "       2.85778179, 2.87639973]), 'split1_test_mae': array([2.83962361, 2.84499655, 2.87021222, 2.83966806, 2.84975406,\n",
      "       2.86960177, 2.84357226, 2.85159693, 2.87384833, 2.84369693,\n",
      "       2.85586856, 2.87494218]), 'split2_test_mae': array([2.83516503, 2.84453103, 2.86289578, 2.83833628, 2.84848899,\n",
      "       2.86587849, 2.84107814, 2.84747372, 2.86865415, 2.84210649,\n",
      "       2.85057551, 2.87215704]), 'split3_test_mae': array([2.84377719, 2.84972755, 2.87282753, 2.84186119, 2.85044325,\n",
      "       2.87123061, 2.84698922, 2.85236056, 2.87504532, 2.84737432,\n",
      "       2.854804  , 2.87951635]), 'split4_test_mae': array([2.83806663, 2.84490541, 2.86695732, 2.83924786, 2.84872395,\n",
      "       2.86853115, 2.84145735, 2.85149491, 2.86981436, 2.84486086,\n",
      "       2.8550844 , 2.87488735]), 'mean_test_mae': array([2.8393403 , 2.84681159, 2.86863064, 2.84038159, 2.84977878,\n",
      "       2.86909486, 2.84379912, 2.85134534, 2.87204869, 2.84548769,\n",
      "       2.85482285, 2.87558053]), 'std_test_mae': array([0.00280544, 0.00245576, 0.00341935, 0.00167268, 0.00110679,\n",
      "       0.00183166, 0.00234622, 0.002104  , 0.00242598, 0.00260371,\n",
      "       0.00236464, 0.00239875]), 'rank_test_mae': array([ 1,  5,  9,  2,  6, 10,  3,  7, 11,  4,  8, 12]), 'mean_fit_time': array([75.13029289, 71.44337063, 71.58049221, 77.12413936, 76.109934  ,\n",
      "       79.04356003, 85.41942744, 84.21264486, 87.75970778, 95.34512234,\n",
      "       93.71904459, 94.36215553]), 'std_fit_time': array([7.17565738, 0.27186852, 0.35264405, 2.05566928, 1.35761135,\n",
      "       5.53992057, 0.24771592, 0.42341441, 4.79377015, 0.33338856,\n",
      "       0.3796771 , 1.77327698]), 'mean_test_time': array([2.88289094, 2.92979307, 2.92285709, 2.55559998, 2.87802696,\n",
      "       2.86236815, 2.8827147 , 2.52796698, 2.95307937, 2.57427225,\n",
      "       2.88226209, 2.83933301]), 'std_test_time': array([0.91509837, 0.84053653, 0.8131565 , 0.69018432, 0.83226478,\n",
      "       0.85204532, 0.846289  , 0.68162599, 0.84709913, 0.65993907,\n",
      "       0.88788145, 0.84577151]), 'params': [{'n_factors': 110, 'reg_all': 0.08}, {'n_factors': 110, 'reg_all': 0.1}, {'n_factors': 110, 'reg_all': 0.15}, {'n_factors': 120, 'reg_all': 0.08}, {'n_factors': 120, 'reg_all': 0.1}, {'n_factors': 120, 'reg_all': 0.15}, {'n_factors': 140, 'reg_all': 0.08}, {'n_factors': 140, 'reg_all': 0.1}, {'n_factors': 140, 'reg_all': 0.15}, {'n_factors': 160, 'reg_all': 0.08}, {'n_factors': 160, 'reg_all': 0.1}, {'n_factors': 160, 'reg_all': 0.15}], 'param_n_factors': [110, 110, 110, 120, 120, 120, 140, 140, 140, 160, 160, 160], 'param_reg_all': [0.08, 0.1, 0.15, 0.08, 0.1, 0.15, 0.08, 0.1, 0.15, 0.08, 0.1, 0.15]}\n"
     ]
    }
   ],
   "source": [
    "print(gs.cv_results)"
   ]
  },
  {
   "cell_type": "markdown",
   "metadata": {},
   "source": [
    "* predict test set with optimal model based on `RMSE`"
   ]
  },
  {
   "cell_type": "code",
   "execution_count": 28,
   "metadata": {},
   "outputs": [],
   "source": [
    "algo_best = gs.best_estimator['rmse']\n",
    "algo_best.fit(train_set)\n",
    "predictions_test = algo_best.test(test_set)"
   ]
  },
  {
   "cell_type": "markdown",
   "metadata": {},
   "source": [
    "* print optimal model's RMSE that was computed on test set\n",
    "    - is it better than the default parameters?"
   ]
  },
  {
   "cell_type": "code",
   "execution_count": 29,
   "metadata": {
    "ExecuteTime": {
     "end_time": "2020-04-30T12:02:09.507946Z",
     "start_time": "2020-04-30T12:02:09.485329Z"
    }
   },
   "outputs": [
    {
     "name": "stdout",
     "output_type": "stream",
     "text": [
      "RMSE: 3.4303\n"
     ]
    },
    {
     "data": {
      "text/plain": [
       "3.4302963983784998"
      ]
     },
     "execution_count": 29,
     "metadata": {},
     "output_type": "execute_result"
    }
   ],
   "source": [
    "accuracy.rmse(predictions_test)"
   ]
  }
 ],
 "metadata": {
  "kernelspec": {
   "display_name": "Python 3 (ipykernel)",
   "language": "python",
   "name": "python3"
  },
  "language_info": {
   "codemirror_mode": {
    "name": "ipython",
    "version": 3
   },
   "file_extension": ".py",
   "mimetype": "text/x-python",
   "name": "python",
   "nbconvert_exporter": "python",
   "pygments_lexer": "ipython3",
   "version": "3.8.10"
  },
  "toc": {
   "base_numbering": 1,
   "nav_menu": {},
   "number_sections": true,
   "sideBar": true,
   "skip_h1_title": false,
   "title_cell": "Table of Contents",
   "title_sidebar": "Contents",
   "toc_cell": false,
   "toc_position": {},
   "toc_section_display": true,
   "toc_window_display": false
  },
  "varInspector": {
   "cols": {
    "lenName": 16,
    "lenType": 16,
    "lenVar": 40
   },
   "kernels_config": {
    "python": {
     "delete_cmd_postfix": "",
     "delete_cmd_prefix": "del ",
     "library": "var_list.py",
     "varRefreshCmd": "print(var_dic_list())"
    },
    "r": {
     "delete_cmd_postfix": ") ",
     "delete_cmd_prefix": "rm(",
     "library": "var_list.r",
     "varRefreshCmd": "cat(var_dic_list()) "
    }
   },
   "types_to_exclude": [
    "module",
    "function",
    "builtin_function_or_method",
    "instance",
    "_Feature"
   ],
   "window_display": false
  }
 },
 "nbformat": 4,
 "nbformat_minor": 4
}
